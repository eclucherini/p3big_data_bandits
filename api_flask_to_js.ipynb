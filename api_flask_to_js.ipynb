{
 "cells": [
  {
   "cell_type": "code",
   "execution_count": 4,
   "metadata": {},
   "outputs": [
    {
     "name": "stdout",
     "output_type": "stream",
     "text": [
      "Listings data saved to 'listings.js'.\n",
      "Reviews data saved to 'reviews.js'.\n"
     ]
    }
   ],
   "source": [
    "import requests\n",
    "import json\n",
    "\n",
    "# API URLs\n",
    "listings_api_url = 'http://127.0.0.1:5000/api/BigDataBandits/Listings'\n",
    "reviews_api_url = 'http://127.0.0.1:5000/api/BigDataBandits/Reviews'\n",
    "\n",
    "# Fetch data for Listings\n",
    "response_listings = requests.get(listings_api_url)\n",
    "if response_listings.status_code == 200:\n",
    "    data_listings = response_listings.json()\n",
    "    \n",
    "    # Sort the Listings data by listing_id\n",
    "    data_listings_sorted = sorted(data_listings, key=lambda x: x['listing_id'])\n",
    "    \n",
    "    with open('Resources/listings.js', 'w') as listings_file:\n",
    "        listings_file.write(f\"Listings = {json.dumps(data_listings_sorted, indent=4)};\")\n",
    "    print(\"Listings data saved to 'listings.js'.\")\n",
    "else:\n",
    "    print(\"Failed to fetch Listings data. Status code:\", response_listings.status_code)\n",
    "\n",
    "# Fetch data for Reviews\n",
    "response_reviews = requests.get(reviews_api_url)\n",
    "if response_reviews.status_code == 200:\n",
    "    data_reviews = response_reviews.json()\n",
    "    \n",
    "    with open('Resources/reviews.js', 'w') as reviews_file:\n",
    "        reviews_file.write(f\"Reviews = {json.dumps(data_reviews, indent=4)};\")\n",
    "    print(\"Reviews data saved to 'reviews.js'.\")\n",
    "else:\n",
    "    print(\"Failed to fetch Reviews data. Status code:\", response_reviews.status_code)"
   ]
  }
 ],
 "metadata": {
  "kernelspec": {
   "display_name": "base",
   "language": "python",
   "name": "python3"
  },
  "language_info": {
   "codemirror_mode": {
    "name": "ipython",
    "version": 3
   },
   "file_extension": ".py",
   "mimetype": "text/x-python",
   "name": "python",
   "nbconvert_exporter": "python",
   "pygments_lexer": "ipython3",
   "version": "3.10.9"
  },
  "orig_nbformat": 4
 },
 "nbformat": 4,
 "nbformat_minor": 2
}
