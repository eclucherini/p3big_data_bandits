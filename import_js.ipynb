{
 "cells": [
  {
   "cell_type": "code",
   "execution_count": 3,
   "metadata": {},
   "outputs": [],
   "source": [
    "import requests\n",
    "import json\n",
    "\n",
    "# API URLs\n",
    "listings_api_url = 'http://127.0.0.1:5000/api/BigDataBandits/Listings'\n",
    "reviews_api_url = 'http://127.0.0.1:5000/api/BigDataBandits/Reviews'\n",
    "\n",
    "# Fetch data for Listings\n",
    "response_listings = requests.get(listings_api_url)\n",
    "listing_data = response_listings.json()\n",
    "# Fetch data for Reviews\n",
    "response_reviews = requests.get(reviews_api_url)\n",
    "response_data = response_reviews.json()\n",
    "\n",
    "# Save Listings data as a .js file\n",
    "with open('Resources/listings.js', 'w') as file:\n",
    "    file.write(f'let Listings = {json.dumps(listing_data, indent=2)};\\nexport default listingsData;')\n",
    "\n",
    "# Save Reviews data as a .js file\n",
    "with open('Resources/reviews.js', 'w') as file:\n",
    "    file.write(f'let Reviews = {json.dumps(response_data, indent=2)};\\nexport default reviewsData;')\n"
   ]
  }
 ],
 "metadata": {
  "kernelspec": {
   "display_name": "base",
   "language": "python",
   "name": "python3"
  },
  "language_info": {
   "codemirror_mode": {
    "name": "ipython",
    "version": 3
   },
   "file_extension": ".py",
   "mimetype": "text/x-python",
   "name": "python",
   "nbconvert_exporter": "python",
   "pygments_lexer": "ipython3",
   "version": "3.10.9"
  },
  "orig_nbformat": 4
 },
 "nbformat": 4,
 "nbformat_minor": 2
}
