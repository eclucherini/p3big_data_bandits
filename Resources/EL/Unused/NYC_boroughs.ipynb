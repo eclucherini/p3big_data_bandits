{
 "cells": [
  {
   "cell_type": "code",
   "execution_count": 9,
   "metadata": {},
   "outputs": [],
   "source": [
    "import pandas as pd\n",
    "from geopy.geocoders import Nominatim\n",
    "import geopandas as gpd"
   ]
  },
  {
   "cell_type": "code",
   "execution_count": 2,
   "metadata": {},
   "outputs": [],
   "source": [
    "listings_df = pd.read_csv(\"resources/merged_cleaned_ny.csv\", encoding=\"ISO-8859-1\")"
   ]
  },
  {
   "cell_type": "code",
   "execution_count": 3,
   "metadata": {},
   "outputs": [
    {
     "data": {
      "text/plain": [
       "Index(['primary_key', 'listing_id', 'listing_url', 'name', 'host_id',\n",
       "       'host_url', 'host_name', 'host_since', 'host_is_superhost',\n",
       "       'host_listings_count', 'host_total_listings_count', 'latitude',\n",
       "       'longitude', 'room_type', 'accommodates', 'bedrooms', 'beds',\n",
       "       'minimum_nights', 'maximum_nights', 'has_availability',\n",
       "       'number_of_reviews', 'number_of_reviews_ltm', 'number_of_reviews_l30d',\n",
       "       'first_review', 'last_review', 'review_scores_rating',\n",
       "       'calculated_host_listings_count', 'reviews_per_month', 'date',\n",
       "       'available', 'price', 'adjusted_price'],\n",
       "      dtype='object')"
      ]
     },
     "execution_count": 3,
     "metadata": {},
     "output_type": "execute_result"
    }
   ],
   "source": [
    "listings_df.columns"
   ]
  },
  {
   "cell_type": "code",
   "execution_count": 4,
   "metadata": {},
   "outputs": [],
   "source": [
    "# Function to get neighborhood and borough from latitude and longitude\n",
    "def get_neighborhood_borough(lat, lon):\n",
    "    geolocator = Nominatim(user_agent=\"myGeocoder\")\n",
    "    location = geolocator.reverse((lat, lon), language=\"en\")\n",
    "    address = location.raw['address']\n",
    "    neighborhood = address.get('neighbourhood', '')\n",
    "    borough = address.get('borough', '')\n",
    "    return neighborhood, borough\n"
   ]
  },
  {
   "cell_type": "code",
   "execution_count": 6,
   "metadata": {},
   "outputs": [
    {
     "name": "stdout",
     "output_type": "stream",
     "text": [
      "313\n"
     ]
    },
    {
     "data": {
      "text/html": [
       "<div>\n",
       "<style scoped>\n",
       "    .dataframe tbody tr th:only-of-type {\n",
       "        vertical-align: middle;\n",
       "    }\n",
       "\n",
       "    .dataframe tbody tr th {\n",
       "        vertical-align: top;\n",
       "    }\n",
       "\n",
       "    .dataframe thead th {\n",
       "        text-align: right;\n",
       "    }\n",
       "</style>\n",
       "<table border=\"1\" class=\"dataframe\">\n",
       "  <thead>\n",
       "    <tr style=\"text-align: right;\">\n",
       "      <th></th>\n",
       "      <th>listing_id</th>\n",
       "      <th>latitude</th>\n",
       "      <th>longitude</th>\n",
       "    </tr>\n",
       "  </thead>\n",
       "  <tbody>\n",
       "    <tr>\n",
       "      <th>0</th>\n",
       "      <td>2595</td>\n",
       "      <td>40.753560</td>\n",
       "      <td>-73.985590</td>\n",
       "    </tr>\n",
       "    <tr>\n",
       "      <th>32</th>\n",
       "      <td>5121</td>\n",
       "      <td>40.685350</td>\n",
       "      <td>-73.955120</td>\n",
       "    </tr>\n",
       "    <tr>\n",
       "      <th>64</th>\n",
       "      <td>14991</td>\n",
       "      <td>40.722070</td>\n",
       "      <td>-73.989760</td>\n",
       "    </tr>\n",
       "    <tr>\n",
       "      <th>96</th>\n",
       "      <td>5136</td>\n",
       "      <td>40.662650</td>\n",
       "      <td>-73.994540</td>\n",
       "    </tr>\n",
       "    <tr>\n",
       "      <th>128</th>\n",
       "      <td>15341</td>\n",
       "      <td>40.721359</td>\n",
       "      <td>-73.993668</td>\n",
       "    </tr>\n",
       "  </tbody>\n",
       "</table>\n",
       "</div>"
      ],
      "text/plain": [
       "     listing_id   latitude  longitude\n",
       "0          2595  40.753560 -73.985590\n",
       "32         5121  40.685350 -73.955120\n",
       "64        14991  40.722070 -73.989760\n",
       "96         5136  40.662650 -73.994540\n",
       "128       15341  40.721359 -73.993668"
      ]
     },
     "execution_count": 6,
     "metadata": {},
     "output_type": "execute_result"
    }
   ],
   "source": [
    "unique_listings_df = listings_df.copy()\n",
    "unique_listings_df = unique_listings_df[['listing_id', 'latitude', 'longitude']]\n",
    "unique_listings_df = unique_listings_df.drop_duplicates(keep = 'first')\n",
    "print(len(unique_listings_df))\n",
    "unique_listings_df.head()"
   ]
  },
  {
   "cell_type": "code",
   "execution_count": 7,
   "metadata": {},
   "outputs": [
    {
     "data": {
      "text/html": [
       "<div>\n",
       "<style scoped>\n",
       "    .dataframe tbody tr th:only-of-type {\n",
       "        vertical-align: middle;\n",
       "    }\n",
       "\n",
       "    .dataframe tbody tr th {\n",
       "        vertical-align: top;\n",
       "    }\n",
       "\n",
       "    .dataframe thead th {\n",
       "        text-align: right;\n",
       "    }\n",
       "</style>\n",
       "<table border=\"1\" class=\"dataframe\">\n",
       "  <thead>\n",
       "    <tr style=\"text-align: right;\">\n",
       "      <th></th>\n",
       "      <th>listing_id</th>\n",
       "      <th>latitude</th>\n",
       "      <th>longitude</th>\n",
       "    </tr>\n",
       "  </thead>\n",
       "  <tbody>\n",
       "    <tr>\n",
       "      <th>0</th>\n",
       "      <td>2595</td>\n",
       "      <td>40.753560</td>\n",
       "      <td>-73.985590</td>\n",
       "    </tr>\n",
       "    <tr>\n",
       "      <th>32</th>\n",
       "      <td>5121</td>\n",
       "      <td>40.685350</td>\n",
       "      <td>-73.955120</td>\n",
       "    </tr>\n",
       "    <tr>\n",
       "      <th>64</th>\n",
       "      <td>14991</td>\n",
       "      <td>40.722070</td>\n",
       "      <td>-73.989760</td>\n",
       "    </tr>\n",
       "    <tr>\n",
       "      <th>96</th>\n",
       "      <td>5136</td>\n",
       "      <td>40.662650</td>\n",
       "      <td>-73.994540</td>\n",
       "    </tr>\n",
       "    <tr>\n",
       "      <th>128</th>\n",
       "      <td>15341</td>\n",
       "      <td>40.721359</td>\n",
       "      <td>-73.993668</td>\n",
       "    </tr>\n",
       "  </tbody>\n",
       "</table>\n",
       "</div>"
      ],
      "text/plain": [
       "     listing_id   latitude  longitude\n",
       "0          2595  40.753560 -73.985590\n",
       "32         5121  40.685350 -73.955120\n",
       "64        14991  40.722070 -73.989760\n",
       "96         5136  40.662650 -73.994540\n",
       "128       15341  40.721359 -73.993668"
      ]
     },
     "execution_count": 7,
     "metadata": {},
     "output_type": "execute_result"
    }
   ],
   "source": [
    "five_listings_df = unique_listings_df.copy()\n",
    "five_listings_df = five_listings_df.head(5)\n",
    "five_listings_df.head(10)"
   ]
  },
  {
   "cell_type": "code",
   "execution_count": 8,
   "metadata": {},
   "outputs": [
    {
     "data": {
      "text/html": [
       "<div>\n",
       "<style scoped>\n",
       "    .dataframe tbody tr th:only-of-type {\n",
       "        vertical-align: middle;\n",
       "    }\n",
       "\n",
       "    .dataframe tbody tr th {\n",
       "        vertical-align: top;\n",
       "    }\n",
       "\n",
       "    .dataframe thead th {\n",
       "        text-align: right;\n",
       "    }\n",
       "</style>\n",
       "<table border=\"1\" class=\"dataframe\">\n",
       "  <thead>\n",
       "    <tr style=\"text-align: right;\">\n",
       "      <th></th>\n",
       "      <th>listing_id</th>\n",
       "      <th>latitude</th>\n",
       "      <th>longitude</th>\n",
       "      <th>neighborhood</th>\n",
       "      <th>borough</th>\n",
       "    </tr>\n",
       "  </thead>\n",
       "  <tbody>\n",
       "    <tr>\n",
       "      <th>0</th>\n",
       "      <td>2595</td>\n",
       "      <td>40.753560</td>\n",
       "      <td>-73.985590</td>\n",
       "      <td>Manhattan Community Board 5</td>\n",
       "      <td></td>\n",
       "    </tr>\n",
       "    <tr>\n",
       "      <th>32</th>\n",
       "      <td>5121</td>\n",
       "      <td>40.685350</td>\n",
       "      <td>-73.955120</td>\n",
       "      <td></td>\n",
       "      <td></td>\n",
       "    </tr>\n",
       "    <tr>\n",
       "      <th>64</th>\n",
       "      <td>14991</td>\n",
       "      <td>40.722070</td>\n",
       "      <td>-73.989760</td>\n",
       "      <td>Manhattan Community Board 3</td>\n",
       "      <td></td>\n",
       "    </tr>\n",
       "    <tr>\n",
       "      <th>96</th>\n",
       "      <td>5136</td>\n",
       "      <td>40.662650</td>\n",
       "      <td>-73.994540</td>\n",
       "      <td>Sunset Park</td>\n",
       "      <td></td>\n",
       "    </tr>\n",
       "    <tr>\n",
       "      <th>128</th>\n",
       "      <td>15341</td>\n",
       "      <td>40.721359</td>\n",
       "      <td>-73.993668</td>\n",
       "      <td>Manhattan Community Board 2</td>\n",
       "      <td></td>\n",
       "    </tr>\n",
       "  </tbody>\n",
       "</table>\n",
       "</div>"
      ],
      "text/plain": [
       "     listing_id   latitude  longitude                 neighborhood borough\n",
       "0          2595  40.753560 -73.985590  Manhattan Community Board 5        \n",
       "32         5121  40.685350 -73.955120                                     \n",
       "64        14991  40.722070 -73.989760  Manhattan Community Board 3        \n",
       "96         5136  40.662650 -73.994540                  Sunset Park        \n",
       "128       15341  40.721359 -73.993668  Manhattan Community Board 2        "
      ]
     },
     "execution_count": 8,
     "metadata": {},
     "output_type": "execute_result"
    }
   ],
   "source": [
    "# Add 'Neighborhood' and 'Borough' columns to DataFrame\n",
    "five_listings_df['neighborhood'], five_listings_df['borough'] = zip(*five_listings_df.apply(lambda row: get_neighborhood_borough(row['latitude'], row['longitude']), axis=1))\n"
   ]
  },
  {
   "cell_type": "code",
   "execution_count": 10,
   "metadata": {},
   "outputs": [],
   "source": [
    "# Fetching New York City's boroughs and neighborhoods using geopandas\n",
    "ny_boroughs = gpd.read_file(gpd.datasets.get_path('nybb'))\n",
    "ny_neighborhoods = gpd.read_file(gpd.datasets.get_path('nybb')).to_crs(epsg=4326)\n"
   ]
  },
  {
   "cell_type": "code",
   "execution_count": 11,
   "metadata": {},
   "outputs": [],
   "source": [
    "# Function to find borough and neighborhood based on latitude and longitude\n",
    "def find_neighborhood_borough(lat, lon):\n",
    "    point = gpd.GeoSeries([Point(lon, lat)], crs='EPSG:4326')\n",
    "    borough = None\n",
    "    neighborhood = None\n",
    "\n",
    "    for index, borough_polygon in ny_boroughs.iterrows():\n",
    "        if borough_polygon['geometry'].contains(point.geometry[0]):\n",
    "            borough = borough_polygon['BoroName']\n",
    "\n",
    "    for index, neighborhood_polygon in ny_neighborhoods.iterrows():\n",
    "        if neighborhood_polygon['geometry'].contains(point.geometry[0]):\n",
    "            neighborhood = neighborhood_polygon['Name']\n",
    "\n",
    "    return neighborhood, borough\n"
   ]
  },
  {
   "cell_type": "code",
   "execution_count": 12,
   "metadata": {},
   "outputs": [
    {
     "ename": "NameError",
     "evalue": "name 'Point' is not defined",
     "output_type": "error",
     "traceback": [
      "\u001b[1;31m---------------------------------------------------------------------------\u001b[0m",
      "\u001b[1;31mNameError\u001b[0m                                 Traceback (most recent call last)",
      "Cell \u001b[1;32mIn[12], line 2\u001b[0m\n\u001b[0;32m      1\u001b[0m \u001b[39m# Add 'Neighborhood' and 'Borough' columns to DataFrame based on spatial data\u001b[39;00m\n\u001b[1;32m----> 2\u001b[0m five_listings_df[\u001b[39m'\u001b[39m\u001b[39mneighborhood\u001b[39m\u001b[39m'\u001b[39m], five_listings_df[\u001b[39m'\u001b[39m\u001b[39mborough\u001b[39m\u001b[39m'\u001b[39m] \u001b[39m=\u001b[39m \u001b[39mzip\u001b[39m(\u001b[39m*\u001b[39mfive_listings_df\u001b[39m.\u001b[39;49mapply(\u001b[39mlambda\u001b[39;49;00m row: find_neighborhood_borough(row[\u001b[39m'\u001b[39;49m\u001b[39mlatitude\u001b[39;49m\u001b[39m'\u001b[39;49m], row[\u001b[39m'\u001b[39;49m\u001b[39mlongitude\u001b[39;49m\u001b[39m'\u001b[39;49m]), axis\u001b[39m=\u001b[39;49m\u001b[39m1\u001b[39;49m))\n\u001b[0;32m      3\u001b[0m five_listings_df\u001b[39m.\u001b[39mhead()\n",
      "File \u001b[1;32mc:\\Users\\User\\anaconda3\\lib\\site-packages\\pandas\\core\\frame.py:9568\u001b[0m, in \u001b[0;36mDataFrame.apply\u001b[1;34m(self, func, axis, raw, result_type, args, **kwargs)\u001b[0m\n\u001b[0;32m   9557\u001b[0m \u001b[39mfrom\u001b[39;00m \u001b[39mpandas\u001b[39;00m\u001b[39m.\u001b[39;00m\u001b[39mcore\u001b[39;00m\u001b[39m.\u001b[39;00m\u001b[39mapply\u001b[39;00m \u001b[39mimport\u001b[39;00m frame_apply\n\u001b[0;32m   9559\u001b[0m op \u001b[39m=\u001b[39m frame_apply(\n\u001b[0;32m   9560\u001b[0m     \u001b[39mself\u001b[39m,\n\u001b[0;32m   9561\u001b[0m     func\u001b[39m=\u001b[39mfunc,\n\u001b[1;32m   (...)\u001b[0m\n\u001b[0;32m   9566\u001b[0m     kwargs\u001b[39m=\u001b[39mkwargs,\n\u001b[0;32m   9567\u001b[0m )\n\u001b[1;32m-> 9568\u001b[0m \u001b[39mreturn\u001b[39;00m op\u001b[39m.\u001b[39;49mapply()\u001b[39m.\u001b[39m__finalize__(\u001b[39mself\u001b[39m, method\u001b[39m=\u001b[39m\u001b[39m\"\u001b[39m\u001b[39mapply\u001b[39m\u001b[39m\"\u001b[39m)\n",
      "File \u001b[1;32mc:\\Users\\User\\anaconda3\\lib\\site-packages\\pandas\\core\\apply.py:764\u001b[0m, in \u001b[0;36mFrameApply.apply\u001b[1;34m(self)\u001b[0m\n\u001b[0;32m    761\u001b[0m \u001b[39melif\u001b[39;00m \u001b[39mself\u001b[39m\u001b[39m.\u001b[39mraw:\n\u001b[0;32m    762\u001b[0m     \u001b[39mreturn\u001b[39;00m \u001b[39mself\u001b[39m\u001b[39m.\u001b[39mapply_raw()\n\u001b[1;32m--> 764\u001b[0m \u001b[39mreturn\u001b[39;00m \u001b[39mself\u001b[39;49m\u001b[39m.\u001b[39;49mapply_standard()\n",
      "File \u001b[1;32mc:\\Users\\User\\anaconda3\\lib\\site-packages\\pandas\\core\\apply.py:891\u001b[0m, in \u001b[0;36mFrameApply.apply_standard\u001b[1;34m(self)\u001b[0m\n\u001b[0;32m    890\u001b[0m \u001b[39mdef\u001b[39;00m \u001b[39mapply_standard\u001b[39m(\u001b[39mself\u001b[39m):\n\u001b[1;32m--> 891\u001b[0m     results, res_index \u001b[39m=\u001b[39m \u001b[39mself\u001b[39;49m\u001b[39m.\u001b[39;49mapply_series_generator()\n\u001b[0;32m    893\u001b[0m     \u001b[39m# wrap results\u001b[39;00m\n\u001b[0;32m    894\u001b[0m     \u001b[39mreturn\u001b[39;00m \u001b[39mself\u001b[39m\u001b[39m.\u001b[39mwrap_results(results, res_index)\n",
      "File \u001b[1;32mc:\\Users\\User\\anaconda3\\lib\\site-packages\\pandas\\core\\apply.py:907\u001b[0m, in \u001b[0;36mFrameApply.apply_series_generator\u001b[1;34m(self)\u001b[0m\n\u001b[0;32m    904\u001b[0m \u001b[39mwith\u001b[39;00m option_context(\u001b[39m\"\u001b[39m\u001b[39mmode.chained_assignment\u001b[39m\u001b[39m\"\u001b[39m, \u001b[39mNone\u001b[39;00m):\n\u001b[0;32m    905\u001b[0m     \u001b[39mfor\u001b[39;00m i, v \u001b[39min\u001b[39;00m \u001b[39menumerate\u001b[39m(series_gen):\n\u001b[0;32m    906\u001b[0m         \u001b[39m# ignore SettingWithCopy here in case the user mutates\u001b[39;00m\n\u001b[1;32m--> 907\u001b[0m         results[i] \u001b[39m=\u001b[39m \u001b[39mself\u001b[39;49m\u001b[39m.\u001b[39;49mf(v)\n\u001b[0;32m    908\u001b[0m         \u001b[39mif\u001b[39;00m \u001b[39misinstance\u001b[39m(results[i], ABCSeries):\n\u001b[0;32m    909\u001b[0m             \u001b[39m# If we have a view on v, we need to make a copy because\u001b[39;00m\n\u001b[0;32m    910\u001b[0m             \u001b[39m#  series_generator will swap out the underlying data\u001b[39;00m\n\u001b[0;32m    911\u001b[0m             results[i] \u001b[39m=\u001b[39m results[i]\u001b[39m.\u001b[39mcopy(deep\u001b[39m=\u001b[39m\u001b[39mFalse\u001b[39;00m)\n",
      "Cell \u001b[1;32mIn[12], line 2\u001b[0m, in \u001b[0;36m<lambda>\u001b[1;34m(row)\u001b[0m\n\u001b[0;32m      1\u001b[0m \u001b[39m# Add 'Neighborhood' and 'Borough' columns to DataFrame based on spatial data\u001b[39;00m\n\u001b[1;32m----> 2\u001b[0m five_listings_df[\u001b[39m'\u001b[39m\u001b[39mneighborhood\u001b[39m\u001b[39m'\u001b[39m], five_listings_df[\u001b[39m'\u001b[39m\u001b[39mborough\u001b[39m\u001b[39m'\u001b[39m] \u001b[39m=\u001b[39m \u001b[39mzip\u001b[39m(\u001b[39m*\u001b[39mfive_listings_df\u001b[39m.\u001b[39mapply(\u001b[39mlambda\u001b[39;00m row: find_neighborhood_borough(row[\u001b[39m'\u001b[39;49m\u001b[39mlatitude\u001b[39;49m\u001b[39m'\u001b[39;49m], row[\u001b[39m'\u001b[39;49m\u001b[39mlongitude\u001b[39;49m\u001b[39m'\u001b[39;49m]), axis\u001b[39m=\u001b[39m\u001b[39m1\u001b[39m))\n\u001b[0;32m      3\u001b[0m five_listings_df\u001b[39m.\u001b[39mhead()\n",
      "Cell \u001b[1;32mIn[11], line 3\u001b[0m, in \u001b[0;36mfind_neighborhood_borough\u001b[1;34m(lat, lon)\u001b[0m\n\u001b[0;32m      2\u001b[0m \u001b[39mdef\u001b[39;00m \u001b[39mfind_neighborhood_borough\u001b[39m(lat, lon):\n\u001b[1;32m----> 3\u001b[0m     point \u001b[39m=\u001b[39m gpd\u001b[39m.\u001b[39mGeoSeries([Point(lon, lat)], crs\u001b[39m=\u001b[39m\u001b[39m'\u001b[39m\u001b[39mEPSG:4326\u001b[39m\u001b[39m'\u001b[39m)\n\u001b[0;32m      4\u001b[0m     borough \u001b[39m=\u001b[39m \u001b[39mNone\u001b[39;00m\n\u001b[0;32m      5\u001b[0m     neighborhood \u001b[39m=\u001b[39m \u001b[39mNone\u001b[39;00m\n",
      "\u001b[1;31mNameError\u001b[0m: name 'Point' is not defined"
     ]
    }
   ],
   "source": [
    "# Add 'Neighborhood' and 'Borough' columns to DataFrame based on spatial data\n",
    "five_listings_df['neighborhood'], five_listings_df['borough'] = zip(*five_listings_df.apply(lambda row: find_neighborhood_borough(row['latitude'], row['longitude']), axis=1))\n",
    "five_listings_df.head()"
   ]
  }
 ],
 "metadata": {
  "kernelspec": {
   "display_name": "base",
   "language": "python",
   "name": "python3"
  },
  "language_info": {
   "codemirror_mode": {
    "name": "ipython",
    "version": 3
   },
   "file_extension": ".py",
   "mimetype": "text/x-python",
   "name": "python",
   "nbconvert_exporter": "python",
   "pygments_lexer": "ipython3",
   "version": "3.10.9"
  },
  "orig_nbformat": 4
 },
 "nbformat": 4,
 "nbformat_minor": 2
}
