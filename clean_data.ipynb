{
 "cells": [
  {
   "cell_type": "code",
   "execution_count": 3,
   "metadata": {},
   "outputs": [],
   "source": [
    "# Dependencies\n",
    "import pandas as pd"
   ]
  },
  {
   "cell_type": "code",
   "execution_count": 4,
   "metadata": {},
   "outputs": [],
   "source": [
    "# Name of the CSV file\n",
    "listings = 'Resources/ny_listings_6.5.23.csv'\n",
    "calendars = 'Resources/ny_calendar_6.5.23.csv'\n",
    "reviews = 'Resources/ny_reviews_6.5.23.csv'\n"
   ]
  },
  {
   "cell_type": "code",
   "execution_count": 5,
   "metadata": {},
   "outputs": [],
   "source": [
    "# The correct encoding must be used to read the CSV in pandas\n",
    "listings_df = pd.read_csv(listings, encoding=\"ISO-8859-1\")\n",
    "calendars_df = pd.read_csv(calendars, encoding=\"ISO-8859-1\")\n",
    "reviews_df = pd.read_csv(reviews, encoding=\"ISO-8859-1\")"
   ]
  },
  {
   "cell_type": "code",
   "execution_count": 6,
   "metadata": {},
   "outputs": [
    {
     "data": {
      "text/plain": [
       "id                                              43566\n",
       "listing_url                                     43566\n",
       "scrape_id                                       43566\n",
       "last_scraped                                    43566\n",
       "source                                          43566\n",
       "                                                ...  \n",
       "calculated_host_listings_count                  43566\n",
       "calculated_host_listings_count_entire_homes     43566\n",
       "calculated_host_listings_count_private_rooms    43566\n",
       "calculated_host_listings_count_shared_rooms     43566\n",
       "reviews_per_month                               33070\n",
       "Length: 75, dtype: int64"
      ]
     },
     "execution_count": 6,
     "metadata": {},
     "output_type": "execute_result"
    }
   ],
   "source": [
    "listings_df.count()\n"
   ]
  },
  {
   "cell_type": "code",
   "execution_count": 7,
   "metadata": {},
   "outputs": [
    {
     "data": {
      "text/plain": [
       "listing_id        15898711\n",
       "date              15898711\n",
       "available         15898711\n",
       "price             15898711\n",
       "adjusted_price    15898711\n",
       "minimum_nights    15898336\n",
       "maximum_nights    15898336\n",
       "dtype: int64"
      ]
     },
     "execution_count": 7,
     "metadata": {},
     "output_type": "execute_result"
    }
   ],
   "source": [
    "calendars_df.count()"
   ]
  },
  {
   "cell_type": "code",
   "execution_count": 8,
   "metadata": {},
   "outputs": [
    {
     "data": {
      "text/plain": [
       "listing_id       1148772\n",
       "id               1148772\n",
       "date             1148772\n",
       "reviewer_id      1148772\n",
       "reviewer_name    1148769\n",
       "comments         1148534\n",
       "dtype: int64"
      ]
     },
     "execution_count": 8,
     "metadata": {},
     "output_type": "execute_result"
    }
   ],
   "source": [
    "reviews_df.count()"
   ]
  },
  {
   "cell_type": "code",
   "execution_count": 9,
   "metadata": {},
   "outputs": [],
   "source": [
    "keep_ids = [2595,5121,5136,5178,5203,5803,6848,6872,6990,7064,7097,7801,8490,9357,9704,10452,10962,11943,12192,12937,12940,13808,14314,14434,14991,15341,15385,15396,16338,16580,16821,16974,17037,17693,18018,18152,18728,18961,19282,19812,20913,21644,21794,23135,23686,24285,25406,26785,27644,27883,28907,29013,29628,29683,31130,31555,31902,31994,32037,33009,33156,36121,36647,36703,36934,38663,38833,39282,39572,39593,39704,42300,42729,42882,43105,44229,44973,45542,45556,45737,45910,45935,45936,46911,49048,50447,51438,52689,53469,53470,53477,54466,54508,54544,54694,54860,55959,55982,56859,57166,57297,57618,57754,57874,58059,58062,59014,59121,59709,60164,60181,60457,60611,60666,60673,60680,60794,61509,62891,62925,63588,63610,63657,64000,64015,64107,64314,64365,64837,65425,65615,65660,65813,66008,66251,66275,66741,66974,67288,67299,68253,68735,68900,69894,71010,71248,71366,71384,71812,72190,72265,74333,74438,74680,74821,74860,75635,77765,79067,80493,80684,80700,80924,81739,82638,82928,83243,84010,89427,89621,92242,93313,94783,96471,98663,99085,100186,100368,101053,103161,103311,103555,105469,106363,106906,107630,112304,112435,113092,113265,115535,115748,116551,118061,121687,125163,126816,127387,132516,133025,134934,135465,136493,139624,140133,141154,141335,142069,144087,144148,146726,148201,148259,148825,150804,150989,152071,152259,152263,152819,154934,155087,157673,158061,158178,159749,159815,159913,162493,162508,163814,166006,166172,166983,168123,169063,169306,169464,170420,170761,171562,171978,173151,174966,176135,177495,177606,179670,179741,182069,182177,187566,187986,188674,188803,189135,189181,189732,189787,190968,190974,191610,195123,195989,197942,198478,200955,201514,201992,202273,203901,204065,205485,205867,206316,206957,208148,208889,209310,212109,212544,213330,214917,216080,217580,218358,219066,219922,220563,222304,222913,223930,224004,225354,225976,226021,227495,227715,228317,228925,230877,231154,232612,232775,233638,235515,235552,235651,235951,235960,236671,237162,239733]"
   ]
  },
  {
   "cell_type": "code",
   "execution_count": 10,
   "metadata": {},
   "outputs": [],
   "source": [
    "start_date = '2023-07-31'\n",
    "end_date = '2023-08-31'"
   ]
  },
  {
   "cell_type": "code",
   "execution_count": 11,
   "metadata": {},
   "outputs": [
    {
     "data": {
      "text/plain": [
       "id                                              313\n",
       "listing_url                                     313\n",
       "scrape_id                                       313\n",
       "last_scraped                                    313\n",
       "source                                          313\n",
       "                                               ... \n",
       "calculated_host_listings_count                  313\n",
       "calculated_host_listings_count_entire_homes     313\n",
       "calculated_host_listings_count_private_rooms    313\n",
       "calculated_host_listings_count_shared_rooms     313\n",
       "reviews_per_month                               302\n",
       "Length: 75, dtype: int64"
      ]
     },
     "execution_count": 11,
     "metadata": {},
     "output_type": "execute_result"
    }
   ],
   "source": [
    "filtered_listings_df = listings_df[listings_df['id'].isin(keep_ids)]\n",
    "\n",
    "filtered_listings_df.count()"
   ]
  },
  {
   "cell_type": "code",
   "execution_count": 12,
   "metadata": {},
   "outputs": [
    {
     "data": {
      "text/plain": [
       "listing_id        114245\n",
       "date              114245\n",
       "available         114245\n",
       "price             114245\n",
       "adjusted_price    114245\n",
       "minimum_nights    114245\n",
       "maximum_nights    114245\n",
       "dtype: int64"
      ]
     },
     "execution_count": 12,
     "metadata": {},
     "output_type": "execute_result"
    }
   ],
   "source": [
    "filtered_calendars_df = calendars_df[calendars_df['listing_id'].isin(keep_ids)]\n",
    "\n",
    "filtered_calendars_df.count()"
   ]
  },
  {
   "cell_type": "code",
   "execution_count": 13,
   "metadata": {},
   "outputs": [
    {
     "data": {
      "text/plain": [
       "listing_id       34618\n",
       "id               34618\n",
       "date             34618\n",
       "reviewer_id      34618\n",
       "reviewer_name    34618\n",
       "comments         34616\n",
       "dtype: int64"
      ]
     },
     "execution_count": 13,
     "metadata": {},
     "output_type": "execute_result"
    }
   ],
   "source": [
    "filtered_reviews_df = reviews_df[reviews_df['listing_id'].isin(keep_ids)]\n",
    "\n",
    "filtered_reviews_df.count()"
   ]
  },
  {
   "cell_type": "code",
   "execution_count": 14,
   "metadata": {},
   "outputs": [
    {
     "data": {
      "text/plain": [
       "listing_id        10016\n",
       "date              10016\n",
       "available         10016\n",
       "price             10016\n",
       "adjusted_price    10016\n",
       "minimum_nights    10016\n",
       "maximum_nights    10016\n",
       "dtype: int64"
      ]
     },
     "execution_count": 14,
     "metadata": {},
     "output_type": "execute_result"
    }
   ],
   "source": [
    "filtered_calendars_date_df = filtered_calendars_df[(filtered_calendars_df['date'] >= start_date) & (filtered_calendars_df['date']<= end_date)]\n",
    "\n",
    "filtered_calendars_date_df.count()"
   ]
  },
  {
   "cell_type": "code",
   "execution_count": 15,
   "metadata": {},
   "outputs": [],
   "source": [
    "listing_columns = ['id','listing_url','name','host_id','host_url','host_name','host_since','host_is_superhost','host_listings_count','host_total_listings_count','latitude','longitude','room_type','accommodates','bedrooms','beds','price','minimum_nights','maximum_nights','has_availability','number_of_reviews','number_of_reviews_ltm','number_of_reviews_l30d','first_review','last_review','review_scores_rating','calculated_host_listings_count','reviews_per_month']\n",
    "calendars_columns = ['listing_id','date','available','price','adjusted_price']\n",
    "reviews_columns = ['listing_id','id','date','reviewer_id','reviewer_name']"
   ]
  },
  {
   "cell_type": "code",
   "execution_count": 16,
   "metadata": {},
   "outputs": [
    {
     "data": {
      "text/plain": [
       "id                                313\n",
       "listing_url                       313\n",
       "name                              313\n",
       "host_id                           313\n",
       "host_url                          313\n",
       "host_name                         313\n",
       "host_since                        313\n",
       "host_is_superhost                 206\n",
       "host_listings_count               313\n",
       "host_total_listings_count         313\n",
       "latitude                          313\n",
       "longitude                         313\n",
       "room_type                         313\n",
       "accommodates                      313\n",
       "bedrooms                          192\n",
       "beds                              310\n",
       "price                             313\n",
       "minimum_nights                    313\n",
       "maximum_nights                    313\n",
       "has_availability                  313\n",
       "number_of_reviews                 313\n",
       "number_of_reviews_ltm             313\n",
       "number_of_reviews_l30d            313\n",
       "first_review                      302\n",
       "last_review                       302\n",
       "review_scores_rating              302\n",
       "calculated_host_listings_count    313\n",
       "reviews_per_month                 302\n",
       "dtype: int64"
      ]
     },
     "execution_count": 16,
     "metadata": {},
     "output_type": "execute_result"
    }
   ],
   "source": [
    "column_listings_df = filtered_listings_df[listing_columns]\n",
    "column_listings_df.count()"
   ]
  },
  {
   "cell_type": "code",
   "execution_count": 17,
   "metadata": {},
   "outputs": [
    {
     "data": {
      "text/plain": [
       "listing_id       34618\n",
       "id               34618\n",
       "date             34618\n",
       "reviewer_id      34618\n",
       "reviewer_name    34618\n",
       "dtype: int64"
      ]
     },
     "execution_count": 17,
     "metadata": {},
     "output_type": "execute_result"
    }
   ],
   "source": [
    "column_reviews_df = filtered_reviews_df[reviews_columns]\n",
    "column_reviews_df.count()"
   ]
  },
  {
   "cell_type": "code",
   "execution_count": 18,
   "metadata": {},
   "outputs": [
    {
     "data": {
      "text/plain": [
       "listing_id        10016\n",
       "date              10016\n",
       "available         10016\n",
       "price             10016\n",
       "adjusted_price    10016\n",
       "dtype: int64"
      ]
     },
     "execution_count": 18,
     "metadata": {},
     "output_type": "execute_result"
    }
   ],
   "source": [
    "column_calendars_df = filtered_calendars_date_df[calendars_columns]\n",
    "column_calendars_df.count()"
   ]
  },
  {
   "cell_type": "code",
   "execution_count": 19,
   "metadata": {},
   "outputs": [
    {
     "name": "stderr",
     "output_type": "stream",
     "text": [
      "C:\\Users\\Adam\\AppData\\Local\\Temp\\ipykernel_5428\\1812920382.py:1: SettingWithCopyWarning: \n",
      "A value is trying to be set on a copy of a slice from a DataFrame\n",
      "\n",
      "See the caveats in the documentation: https://pandas.pydata.org/pandas-docs/stable/user_guide/indexing.html#returning-a-view-versus-a-copy\n",
      "  column_listings_df.rename(columns={'id':'listing_id'},inplace=True)\n"
     ]
    },
    {
     "data": {
      "text/plain": [
       "listing_id                        313\n",
       "listing_url                       313\n",
       "name                              313\n",
       "host_id                           313\n",
       "host_url                          313\n",
       "host_name                         313\n",
       "host_since                        313\n",
       "host_is_superhost                 206\n",
       "host_listings_count               313\n",
       "host_total_listings_count         313\n",
       "latitude                          313\n",
       "longitude                         313\n",
       "room_type                         313\n",
       "accommodates                      313\n",
       "bedrooms                          192\n",
       "beds                              310\n",
       "price                             313\n",
       "minimum_nights                    313\n",
       "maximum_nights                    313\n",
       "has_availability                  313\n",
       "number_of_reviews                 313\n",
       "number_of_reviews_ltm             313\n",
       "number_of_reviews_l30d            313\n",
       "first_review                      302\n",
       "last_review                       302\n",
       "review_scores_rating              302\n",
       "calculated_host_listings_count    313\n",
       "reviews_per_month                 302\n",
       "dtype: int64"
      ]
     },
     "execution_count": 19,
     "metadata": {},
     "output_type": "execute_result"
    }
   ],
   "source": [
    "column_listings_df.rename(columns={'id':'listing_id'},inplace=True)\n",
    "column_listings_df.count()"
   ]
  },
  {
   "cell_type": "code",
   "execution_count": 20,
   "metadata": {},
   "outputs": [
    {
     "data": {
      "text/html": [
       "<div>\n",
       "<style scoped>\n",
       "    .dataframe tbody tr th:only-of-type {\n",
       "        vertical-align: middle;\n",
       "    }\n",
       "\n",
       "    .dataframe tbody tr th {\n",
       "        vertical-align: top;\n",
       "    }\n",
       "\n",
       "    .dataframe thead th {\n",
       "        text-align: right;\n",
       "    }\n",
       "</style>\n",
       "<table border=\"1\" class=\"dataframe\">\n",
       "  <thead>\n",
       "    <tr style=\"text-align: right;\">\n",
       "      <th></th>\n",
       "      <th>listing_id</th>\n",
       "      <th>listing_url</th>\n",
       "      <th>name</th>\n",
       "      <th>host_id</th>\n",
       "      <th>host_url</th>\n",
       "      <th>host_name</th>\n",
       "      <th>host_since</th>\n",
       "      <th>host_is_superhost</th>\n",
       "      <th>host_listings_count</th>\n",
       "      <th>host_total_listings_count</th>\n",
       "      <th>...</th>\n",
       "      <th>number_of_reviews_l30d</th>\n",
       "      <th>first_review</th>\n",
       "      <th>last_review</th>\n",
       "      <th>review_scores_rating</th>\n",
       "      <th>calculated_host_listings_count</th>\n",
       "      <th>reviews_per_month</th>\n",
       "      <th>date</th>\n",
       "      <th>available</th>\n",
       "      <th>price_y</th>\n",
       "      <th>adjusted_price</th>\n",
       "    </tr>\n",
       "  </thead>\n",
       "  <tbody>\n",
       "    <tr>\n",
       "      <th>0</th>\n",
       "      <td>2595</td>\n",
       "      <td>https://www.airbnb.com/rooms/2595</td>\n",
       "      <td>Rental unit in New York Â· â4.68 Â· Studio Â...</td>\n",
       "      <td>2845</td>\n",
       "      <td>https://www.airbnb.com/users/show/2845</td>\n",
       "      <td>Jennifer</td>\n",
       "      <td>2008-09-09</td>\n",
       "      <td>f</td>\n",
       "      <td>7.0</td>\n",
       "      <td>9.0</td>\n",
       "      <td>...</td>\n",
       "      <td>0</td>\n",
       "      <td>2009-11-21</td>\n",
       "      <td>2022-06-21</td>\n",
       "      <td>4.68</td>\n",
       "      <td>3</td>\n",
       "      <td>0.30</td>\n",
       "      <td>2023-07-31</td>\n",
       "      <td>f</td>\n",
       "      <td>$240.00</td>\n",
       "      <td>$240.00</td>\n",
       "    </tr>\n",
       "    <tr>\n",
       "      <th>1</th>\n",
       "      <td>2595</td>\n",
       "      <td>https://www.airbnb.com/rooms/2595</td>\n",
       "      <td>Rental unit in New York Â· â4.68 Â· Studio Â...</td>\n",
       "      <td>2845</td>\n",
       "      <td>https://www.airbnb.com/users/show/2845</td>\n",
       "      <td>Jennifer</td>\n",
       "      <td>2008-09-09</td>\n",
       "      <td>f</td>\n",
       "      <td>7.0</td>\n",
       "      <td>9.0</td>\n",
       "      <td>...</td>\n",
       "      <td>0</td>\n",
       "      <td>2009-11-21</td>\n",
       "      <td>2022-06-21</td>\n",
       "      <td>4.68</td>\n",
       "      <td>3</td>\n",
       "      <td>0.30</td>\n",
       "      <td>2023-08-01</td>\n",
       "      <td>f</td>\n",
       "      <td>$240.00</td>\n",
       "      <td>$240.00</td>\n",
       "    </tr>\n",
       "    <tr>\n",
       "      <th>2</th>\n",
       "      <td>2595</td>\n",
       "      <td>https://www.airbnb.com/rooms/2595</td>\n",
       "      <td>Rental unit in New York Â· â4.68 Â· Studio Â...</td>\n",
       "      <td>2845</td>\n",
       "      <td>https://www.airbnb.com/users/show/2845</td>\n",
       "      <td>Jennifer</td>\n",
       "      <td>2008-09-09</td>\n",
       "      <td>f</td>\n",
       "      <td>7.0</td>\n",
       "      <td>9.0</td>\n",
       "      <td>...</td>\n",
       "      <td>0</td>\n",
       "      <td>2009-11-21</td>\n",
       "      <td>2022-06-21</td>\n",
       "      <td>4.68</td>\n",
       "      <td>3</td>\n",
       "      <td>0.30</td>\n",
       "      <td>2023-08-02</td>\n",
       "      <td>f</td>\n",
       "      <td>$240.00</td>\n",
       "      <td>$240.00</td>\n",
       "    </tr>\n",
       "    <tr>\n",
       "      <th>3</th>\n",
       "      <td>2595</td>\n",
       "      <td>https://www.airbnb.com/rooms/2595</td>\n",
       "      <td>Rental unit in New York Â· â4.68 Â· Studio Â...</td>\n",
       "      <td>2845</td>\n",
       "      <td>https://www.airbnb.com/users/show/2845</td>\n",
       "      <td>Jennifer</td>\n",
       "      <td>2008-09-09</td>\n",
       "      <td>f</td>\n",
       "      <td>7.0</td>\n",
       "      <td>9.0</td>\n",
       "      <td>...</td>\n",
       "      <td>0</td>\n",
       "      <td>2009-11-21</td>\n",
       "      <td>2022-06-21</td>\n",
       "      <td>4.68</td>\n",
       "      <td>3</td>\n",
       "      <td>0.30</td>\n",
       "      <td>2023-08-03</td>\n",
       "      <td>t</td>\n",
       "      <td>$240.00</td>\n",
       "      <td>$240.00</td>\n",
       "    </tr>\n",
       "    <tr>\n",
       "      <th>4</th>\n",
       "      <td>2595</td>\n",
       "      <td>https://www.airbnb.com/rooms/2595</td>\n",
       "      <td>Rental unit in New York Â· â4.68 Â· Studio Â...</td>\n",
       "      <td>2845</td>\n",
       "      <td>https://www.airbnb.com/users/show/2845</td>\n",
       "      <td>Jennifer</td>\n",
       "      <td>2008-09-09</td>\n",
       "      <td>f</td>\n",
       "      <td>7.0</td>\n",
       "      <td>9.0</td>\n",
       "      <td>...</td>\n",
       "      <td>0</td>\n",
       "      <td>2009-11-21</td>\n",
       "      <td>2022-06-21</td>\n",
       "      <td>4.68</td>\n",
       "      <td>3</td>\n",
       "      <td>0.30</td>\n",
       "      <td>2023-08-04</td>\n",
       "      <td>t</td>\n",
       "      <td>$240.00</td>\n",
       "      <td>$240.00</td>\n",
       "    </tr>\n",
       "    <tr>\n",
       "      <th>...</th>\n",
       "      <td>...</td>\n",
       "      <td>...</td>\n",
       "      <td>...</td>\n",
       "      <td>...</td>\n",
       "      <td>...</td>\n",
       "      <td>...</td>\n",
       "      <td>...</td>\n",
       "      <td>...</td>\n",
       "      <td>...</td>\n",
       "      <td>...</td>\n",
       "      <td>...</td>\n",
       "      <td>...</td>\n",
       "      <td>...</td>\n",
       "      <td>...</td>\n",
       "      <td>...</td>\n",
       "      <td>...</td>\n",
       "      <td>...</td>\n",
       "      <td>...</td>\n",
       "      <td>...</td>\n",
       "      <td>...</td>\n",
       "      <td>...</td>\n",
       "    </tr>\n",
       "    <tr>\n",
       "      <th>95</th>\n",
       "      <td>14991</td>\n",
       "      <td>https://www.airbnb.com/rooms/14991</td>\n",
       "      <td>Rental unit in New York Â· â4.93 Â· 1 bedroo...</td>\n",
       "      <td>59023</td>\n",
       "      <td>https://www.airbnb.com/users/show/59023</td>\n",
       "      <td>Bianca</td>\n",
       "      <td>2009-12-01</td>\n",
       "      <td>NaN</td>\n",
       "      <td>1.0</td>\n",
       "      <td>3.0</td>\n",
       "      <td>...</td>\n",
       "      <td>1</td>\n",
       "      <td>2010-03-21</td>\n",
       "      <td>2023-05-14</td>\n",
       "      <td>4.93</td>\n",
       "      <td>1</td>\n",
       "      <td>0.14</td>\n",
       "      <td>2023-08-31</td>\n",
       "      <td>f</td>\n",
       "      <td>$120.00</td>\n",
       "      <td>$120.00</td>\n",
       "    </tr>\n",
       "    <tr>\n",
       "      <th>96</th>\n",
       "      <td>5136</td>\n",
       "      <td>https://www.airbnb.com/rooms/5136</td>\n",
       "      <td>Rental unit in Brooklyn Â· â5.0 Â· 2 bedroom...</td>\n",
       "      <td>7378</td>\n",
       "      <td>https://www.airbnb.com/users/show/7378</td>\n",
       "      <td>Rebecca</td>\n",
       "      <td>2009-02-03</td>\n",
       "      <td>f</td>\n",
       "      <td>1.0</td>\n",
       "      <td>5.0</td>\n",
       "      <td>...</td>\n",
       "      <td>0</td>\n",
       "      <td>2014-01-02</td>\n",
       "      <td>2022-08-10</td>\n",
       "      <td>5.00</td>\n",
       "      <td>1</td>\n",
       "      <td>0.03</td>\n",
       "      <td>2023-07-31</td>\n",
       "      <td>t</td>\n",
       "      <td>$276.00</td>\n",
       "      <td>$276.00</td>\n",
       "    </tr>\n",
       "    <tr>\n",
       "      <th>97</th>\n",
       "      <td>5136</td>\n",
       "      <td>https://www.airbnb.com/rooms/5136</td>\n",
       "      <td>Rental unit in Brooklyn Â· â5.0 Â· 2 bedroom...</td>\n",
       "      <td>7378</td>\n",
       "      <td>https://www.airbnb.com/users/show/7378</td>\n",
       "      <td>Rebecca</td>\n",
       "      <td>2009-02-03</td>\n",
       "      <td>f</td>\n",
       "      <td>1.0</td>\n",
       "      <td>5.0</td>\n",
       "      <td>...</td>\n",
       "      <td>0</td>\n",
       "      <td>2014-01-02</td>\n",
       "      <td>2022-08-10</td>\n",
       "      <td>5.00</td>\n",
       "      <td>1</td>\n",
       "      <td>0.03</td>\n",
       "      <td>2023-08-01</td>\n",
       "      <td>t</td>\n",
       "      <td>$276.00</td>\n",
       "      <td>$276.00</td>\n",
       "    </tr>\n",
       "    <tr>\n",
       "      <th>98</th>\n",
       "      <td>5136</td>\n",
       "      <td>https://www.airbnb.com/rooms/5136</td>\n",
       "      <td>Rental unit in Brooklyn Â· â5.0 Â· 2 bedroom...</td>\n",
       "      <td>7378</td>\n",
       "      <td>https://www.airbnb.com/users/show/7378</td>\n",
       "      <td>Rebecca</td>\n",
       "      <td>2009-02-03</td>\n",
       "      <td>f</td>\n",
       "      <td>1.0</td>\n",
       "      <td>5.0</td>\n",
       "      <td>...</td>\n",
       "      <td>0</td>\n",
       "      <td>2014-01-02</td>\n",
       "      <td>2022-08-10</td>\n",
       "      <td>5.00</td>\n",
       "      <td>1</td>\n",
       "      <td>0.03</td>\n",
       "      <td>2023-08-02</td>\n",
       "      <td>t</td>\n",
       "      <td>$276.00</td>\n",
       "      <td>$276.00</td>\n",
       "    </tr>\n",
       "    <tr>\n",
       "      <th>99</th>\n",
       "      <td>5136</td>\n",
       "      <td>https://www.airbnb.com/rooms/5136</td>\n",
       "      <td>Rental unit in Brooklyn Â· â5.0 Â· 2 bedroom...</td>\n",
       "      <td>7378</td>\n",
       "      <td>https://www.airbnb.com/users/show/7378</td>\n",
       "      <td>Rebecca</td>\n",
       "      <td>2009-02-03</td>\n",
       "      <td>f</td>\n",
       "      <td>1.0</td>\n",
       "      <td>5.0</td>\n",
       "      <td>...</td>\n",
       "      <td>0</td>\n",
       "      <td>2014-01-02</td>\n",
       "      <td>2022-08-10</td>\n",
       "      <td>5.00</td>\n",
       "      <td>1</td>\n",
       "      <td>0.03</td>\n",
       "      <td>2023-08-03</td>\n",
       "      <td>t</td>\n",
       "      <td>$276.00</td>\n",
       "      <td>$276.00</td>\n",
       "    </tr>\n",
       "  </tbody>\n",
       "</table>\n",
       "<p>100 rows × 32 columns</p>\n",
       "</div>"
      ],
      "text/plain": [
       "    listing_id                         listing_url  \\\n",
       "0         2595   https://www.airbnb.com/rooms/2595   \n",
       "1         2595   https://www.airbnb.com/rooms/2595   \n",
       "2         2595   https://www.airbnb.com/rooms/2595   \n",
       "3         2595   https://www.airbnb.com/rooms/2595   \n",
       "4         2595   https://www.airbnb.com/rooms/2595   \n",
       "..         ...                                 ...   \n",
       "95       14991  https://www.airbnb.com/rooms/14991   \n",
       "96        5136   https://www.airbnb.com/rooms/5136   \n",
       "97        5136   https://www.airbnb.com/rooms/5136   \n",
       "98        5136   https://www.airbnb.com/rooms/5136   \n",
       "99        5136   https://www.airbnb.com/rooms/5136   \n",
       "\n",
       "                                                 name  host_id  \\\n",
       "0   Rental unit in New York Â· â\n",
       "4.68 Â· Studio Â...     2845   \n",
       "1   Rental unit in New York Â· â\n",
       "4.68 Â· Studio Â...     2845   \n",
       "2   Rental unit in New York Â· â\n",
       "4.68 Â· Studio Â...     2845   \n",
       "3   Rental unit in New York Â· â\n",
       "4.68 Â· Studio Â...     2845   \n",
       "4   Rental unit in New York Â· â\n",
       "4.68 Â· Studio Â...     2845   \n",
       "..                                                ...      ...   \n",
       "95  Rental unit in New York Â· â\n",
       "4.93 Â· 1 bedroo...    59023   \n",
       "96  Rental unit in Brooklyn Â· â\n",
       "5.0 Â· 2 bedroom...     7378   \n",
       "97  Rental unit in Brooklyn Â· â\n",
       "5.0 Â· 2 bedroom...     7378   \n",
       "98  Rental unit in Brooklyn Â· â\n",
       "5.0 Â· 2 bedroom...     7378   \n",
       "99  Rental unit in Brooklyn Â· â\n",
       "5.0 Â· 2 bedroom...     7378   \n",
       "\n",
       "                                   host_url host_name  host_since  \\\n",
       "0    https://www.airbnb.com/users/show/2845  Jennifer  2008-09-09   \n",
       "1    https://www.airbnb.com/users/show/2845  Jennifer  2008-09-09   \n",
       "2    https://www.airbnb.com/users/show/2845  Jennifer  2008-09-09   \n",
       "3    https://www.airbnb.com/users/show/2845  Jennifer  2008-09-09   \n",
       "4    https://www.airbnb.com/users/show/2845  Jennifer  2008-09-09   \n",
       "..                                      ...       ...         ...   \n",
       "95  https://www.airbnb.com/users/show/59023    Bianca  2009-12-01   \n",
       "96   https://www.airbnb.com/users/show/7378   Rebecca  2009-02-03   \n",
       "97   https://www.airbnb.com/users/show/7378   Rebecca  2009-02-03   \n",
       "98   https://www.airbnb.com/users/show/7378   Rebecca  2009-02-03   \n",
       "99   https://www.airbnb.com/users/show/7378   Rebecca  2009-02-03   \n",
       "\n",
       "   host_is_superhost  host_listings_count  host_total_listings_count  ...  \\\n",
       "0                  f                  7.0                        9.0  ...   \n",
       "1                  f                  7.0                        9.0  ...   \n",
       "2                  f                  7.0                        9.0  ...   \n",
       "3                  f                  7.0                        9.0  ...   \n",
       "4                  f                  7.0                        9.0  ...   \n",
       "..               ...                  ...                        ...  ...   \n",
       "95               NaN                  1.0                        3.0  ...   \n",
       "96                 f                  1.0                        5.0  ...   \n",
       "97                 f                  1.0                        5.0  ...   \n",
       "98                 f                  1.0                        5.0  ...   \n",
       "99                 f                  1.0                        5.0  ...   \n",
       "\n",
       "    number_of_reviews_l30d  first_review last_review  review_scores_rating  \\\n",
       "0                        0    2009-11-21  2022-06-21                  4.68   \n",
       "1                        0    2009-11-21  2022-06-21                  4.68   \n",
       "2                        0    2009-11-21  2022-06-21                  4.68   \n",
       "3                        0    2009-11-21  2022-06-21                  4.68   \n",
       "4                        0    2009-11-21  2022-06-21                  4.68   \n",
       "..                     ...           ...         ...                   ...   \n",
       "95                       1    2010-03-21  2023-05-14                  4.93   \n",
       "96                       0    2014-01-02  2022-08-10                  5.00   \n",
       "97                       0    2014-01-02  2022-08-10                  5.00   \n",
       "98                       0    2014-01-02  2022-08-10                  5.00   \n",
       "99                       0    2014-01-02  2022-08-10                  5.00   \n",
       "\n",
       "    calculated_host_listings_count  reviews_per_month        date  available  \\\n",
       "0                                3               0.30  2023-07-31          f   \n",
       "1                                3               0.30  2023-08-01          f   \n",
       "2                                3               0.30  2023-08-02          f   \n",
       "3                                3               0.30  2023-08-03          t   \n",
       "4                                3               0.30  2023-08-04          t   \n",
       "..                             ...                ...         ...        ...   \n",
       "95                               1               0.14  2023-08-31          f   \n",
       "96                               1               0.03  2023-07-31          t   \n",
       "97                               1               0.03  2023-08-01          t   \n",
       "98                               1               0.03  2023-08-02          t   \n",
       "99                               1               0.03  2023-08-03          t   \n",
       "\n",
       "    price_y adjusted_price  \n",
       "0   $240.00        $240.00  \n",
       "1   $240.00        $240.00  \n",
       "2   $240.00        $240.00  \n",
       "3   $240.00        $240.00  \n",
       "4   $240.00        $240.00  \n",
       "..      ...            ...  \n",
       "95  $120.00        $120.00  \n",
       "96  $276.00        $276.00  \n",
       "97  $276.00        $276.00  \n",
       "98  $276.00        $276.00  \n",
       "99  $276.00        $276.00  \n",
       "\n",
       "[100 rows x 32 columns]"
      ]
     },
     "execution_count": 20,
     "metadata": {},
     "output_type": "execute_result"
    }
   ],
   "source": [
    "merge_df = pd.merge(column_listings_df, column_calendars_df, on='listing_id', how='inner')\n",
    "merge_df.head(100)"
   ]
  },
  {
   "cell_type": "code",
   "execution_count": 21,
   "metadata": {},
   "outputs": [
    {
     "data": {
      "text/plain": [
       "listing_id                        10016\n",
       "listing_url                       10016\n",
       "name                              10016\n",
       "host_id                           10016\n",
       "host_url                          10016\n",
       "host_name                         10016\n",
       "host_since                        10016\n",
       "host_is_superhost                  6592\n",
       "host_listings_count               10016\n",
       "host_total_listings_count         10016\n",
       "latitude                          10016\n",
       "longitude                         10016\n",
       "room_type                         10016\n",
       "accommodates                      10016\n",
       "bedrooms                           6144\n",
       "beds                               9920\n",
       "price_x                           10016\n",
       "minimum_nights                    10016\n",
       "maximum_nights                    10016\n",
       "has_availability                  10016\n",
       "number_of_reviews                 10016\n",
       "number_of_reviews_ltm             10016\n",
       "number_of_reviews_l30d            10016\n",
       "first_review                       9664\n",
       "last_review                        9664\n",
       "review_scores_rating               9664\n",
       "calculated_host_listings_count    10016\n",
       "reviews_per_month                  9664\n",
       "date                              10016\n",
       "available                         10016\n",
       "price_y                           10016\n",
       "adjusted_price                    10016\n",
       "dtype: int64"
      ]
     },
     "execution_count": 21,
     "metadata": {},
     "output_type": "execute_result"
    }
   ],
   "source": [
    "merge_df.count()"
   ]
  },
  {
   "cell_type": "code",
   "execution_count": 23,
   "metadata": {},
   "outputs": [],
   "source": [
    "merge_df.drop('price_x', axis=1,inplace=True)\n",
    "merge_df.rename(columns={'price_y':'price'},inplace=True)\n"
   ]
  },
  {
   "cell_type": "code",
   "execution_count": 24,
   "metadata": {},
   "outputs": [],
   "source": [
    "merge_df.to_csv(\"Resources/merged_cleaned_ny.csv\", index=False, encoding=\"ISO-8859-1\")"
   ]
  },
  {
   "cell_type": "code",
   "execution_count": null,
   "metadata": {},
   "outputs": [],
   "source": [
    "column_reviews_df.to_csv(\"Resources/cleaned_reviews_ny.csv\", index=False, encoding=\"ISO-8859-1\")"
   ]
  }
 ],
 "metadata": {
  "kernelspec": {
   "display_name": "base",
   "language": "python",
   "name": "python3"
  },
  "language_info": {
   "codemirror_mode": {
    "name": "ipython",
    "version": 3
   },
   "file_extension": ".py",
   "mimetype": "text/x-python",
   "name": "python",
   "nbconvert_exporter": "python",
   "pygments_lexer": "ipython3",
   "version": "3.10.9"
  },
  "orig_nbformat": 4
 },
 "nbformat": 4,
 "nbformat_minor": 2
}
