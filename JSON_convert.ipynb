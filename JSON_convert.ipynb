{
 "cells": [
  {
   "cell_type": "code",
   "execution_count": 1,
   "metadata": {},
   "outputs": [],
   "source": [
    "# Import dependencies\n",
    "import csv\n",
    "import json"
   ]
  },
  {
   "cell_type": "code",
   "execution_count": 4,
   "metadata": {},
   "outputs": [],
   "source": [
    "# Set primary key of CSV file\n",
    "primary_key = 'id'\n",
    "\n",
    "# Create function to convert a CSV to JSON\n",
    "# Takes the file paths as arguments\n",
    "def make_json(csvFilePath, jsonFilePath):\n",
    "     \n",
    "    # create a dictionary\n",
    "    data = {}\n",
    "     \n",
    "    # Open a csv reader called DictReader\n",
    "    with open(csvFilePath, encoding='utf-8') as csvf:\n",
    "        csvReader = csv.DictReader(csvf)\n",
    "         \n",
    "        # Convert each row into a dictionary and add it to data\n",
    "        for rows in csvReader:\n",
    "             \n",
    "            # Column named 'id' is the primary key\n",
    "            key = rows[primary_key]\n",
    "            data[key] = rows\n",
    " \n",
    "    # Open a json writer, and use the json.dumps() function to dump data\n",
    "    with open(jsonFilePath, 'w', encoding='utf-8') as jsonf:\n",
    "        jsonf.write(json.dumps(data, indent=4))\n",
    "         \n",
    "# Set the two file paths \n",
    "csvFilePath = r'Resources/ny_listings_6.5.23_cleaned.csv'\n",
    "jsonFilePath = r'Resources/ny_listings_6.5.23_cleaned.json'\n",
    " \n",
    "# Call the make_json function\n",
    "make_json(csvFilePath, jsonFilePath)"
   ]
  },
  {
   "cell_type": "code",
   "execution_count": 5,
   "metadata": {},
   "outputs": [],
   "source": [
    "# Convert calendar CSV file to JSON\n",
    "\n",
    "# Set primary key of CSV file\n",
    "primary_key = 'listing_id'\n",
    "\n",
    "# Set the two file paths \n",
    "csvFilePath = r'Resources/ny_calendar_6.5.23_cleaned.csv'\n",
    "jsonFilePath = r'Resources/ny_calendar_6.5.23_cleaned.json'\n",
    " \n",
    "# Call the make_json function\n",
    "make_json(csvFilePath, jsonFilePath)"
   ]
  },
  {
   "cell_type": "code",
   "execution_count": 6,
   "metadata": {},
   "outputs": [],
   "source": [
    "# Convert reviews CSV file to JSON\n",
    "\n",
    "# Set primary key of CSV file\n",
    "primary_key = 'listing_id'\n",
    "\n",
    "# Set the two file paths \n",
    "csvFilePath = r'Resources/ny_reviews_6.5.23_cleaned.csv'\n",
    "jsonFilePath = r'Resources/ny_reviews_6.5.23_cleaned.json'\n",
    " \n",
    "# Call the make_json function\n",
    "make_json(csvFilePath, jsonFilePath)"
   ]
  }
 ],
 "metadata": {
  "kernelspec": {
   "display_name": "base",
   "language": "python",
   "name": "python3"
  },
  "language_info": {
   "codemirror_mode": {
    "name": "ipython",
    "version": 3
   },
   "file_extension": ".py",
   "mimetype": "text/x-python",
   "name": "python",
   "nbconvert_exporter": "python",
   "pygments_lexer": "ipython3",
   "version": "3.10.9"
  },
  "orig_nbformat": 4
 },
 "nbformat": 4,
 "nbformat_minor": 2
}
